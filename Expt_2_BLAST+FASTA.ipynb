{
  "nbformat": 4,
  "nbformat_minor": 0,
  "metadata": {
    "colab": {
      "provenance": [],
      "authorship_tag": "ABX9TyM982z/oq2h0XTEfnHPExgz",
      "include_colab_link": true
    },
    "kernelspec": {
      "name": "python3",
      "display_name": "Python 3"
    },
    "language_info": {
      "name": "python"
    }
  },
  "cells": [
    {
      "cell_type": "markdown",
      "metadata": {
        "id": "view-in-github",
        "colab_type": "text"
      },
      "source": [
        "<a href=\"https://colab.research.google.com/github/louismathewbt23/Bioinformatics/blob/main/Expt_2_BLAST%2BFASTA.ipynb\" target=\"_parent\"><img src=\"https://colab.research.google.com/assets/colab-badge.svg\" alt=\"Open In Colab\"/></a>"
      ]
    },
    {
      "cell_type": "code",
      "execution_count": null,
      "metadata": {
        "id": "JYuDGNrBES4V"
      },
      "outputs": [],
      "source": []
    },
    {
      "cell_type": "code",
      "metadata": {
        "colab": {
          "base_uri": "https://localhost:8080/"
        },
        "id": "5f89525a",
        "outputId": "7a0ac6b4-92eb-41aa-d181-a389773ad9d5"
      },
      "source": [
        "import sys\n",
        "!{sys.executable} -m pip install biopython"
      ],
      "execution_count": 1,
      "outputs": [
        {
          "output_type": "stream",
          "name": "stdout",
          "text": [
            "Collecting biopython\n",
            "  Downloading biopython-1.85-cp312-cp312-manylinux_2_17_x86_64.manylinux2014_x86_64.whl.metadata (13 kB)\n",
            "Requirement already satisfied: numpy in /usr/local/lib/python3.12/dist-packages (from biopython) (2.0.2)\n",
            "Downloading biopython-1.85-cp312-cp312-manylinux_2_17_x86_64.manylinux2014_x86_64.whl (3.3 MB)\n",
            "\u001b[2K   \u001b[90m━━━━━━━━━━━━━━━━━━━━━━━━━━━━━━━━━━━━━━━━\u001b[0m \u001b[32m3.3/3.3 MB\u001b[0m \u001b[31m32.3 MB/s\u001b[0m eta \u001b[36m0:00:00\u001b[0m\n",
            "\u001b[?25hInstalling collected packages: biopython\n",
            "Successfully installed biopython-1.85\n"
          ]
        }
      ]
    },
    {
      "cell_type": "code",
      "metadata": {
        "colab": {
          "base_uri": "https://localhost:8080/"
        },
        "id": "3784d65c",
        "outputId": "bb182435-4dd9-4523-f321-065353a2d282"
      },
      "source": [
        "# Sequence Alignment Workflow: Global, Local, and Multiple Alignment\n",
        "from Bio import pairwise2\n",
        "from Bio.pairwise2 import format_alignment\n",
        "from Bio import Align\n",
        "from Bio.Seq import Seq\n",
        "from Bio.SeqRecord import SeqRecord\n",
        "\n",
        "# Define sequences\n",
        "seq1 = \"ACCGTGA\"\n",
        "seq2 = \"ACGTCGA\"\n",
        "seq3 = \"ACCGAGA\"\n",
        "\n",
        "# GLOBAL ALIGNMENT (Needleman–Wunsch)\n",
        "print(\"=== Global Alignment ===\")\n",
        "global_alignments = pairwise2.align.globalxx(seq1, seq2)\n",
        "for alignment in global_alignments:\n",
        "  print(format_alignment(*alignment))\n",
        "\n",
        "# LOCAL ALIGNMENT (Smith–Waterman)\n",
        "print(\"=== Local Alignment ===\")\n",
        "local_alignments = pairwise2.align.localxx(seq1, seq2)\n",
        "for alignment in local_alignments:\n",
        "  print(format_alignment(*alignment))\n",
        "\n",
        "# MULTIPLE SEQUENCE ALIGNMENT (using pairwise scoring simulation)\n",
        "print(\"=== Multiple Sequence Alignment (Illustrative) ===\")\n",
        "aligner = Align.PairwiseAligner()\n",
        "sequences = [SeqRecord(Seq(\"ACCGTGA\"), id=\"Seq1\"),\n",
        "             SeqRecord(Seq(\"ACGTCGA\"), id=\"Seq2\"),\n",
        "             SeqRecord(Seq(\"ACCGAGA\"), id=\"Seq3\")]\n",
        "\n",
        "for i in range(len(sequences)):\n",
        "  for j in range(i + 1, len(sequences)):\n",
        "    score = aligner.score(sequences[i].seq, sequences[j].seq)\n",
        "    print(f\"{sequences[i].id} vs {sequences[j].id} = {score}\")"
      ],
      "execution_count": 2,
      "outputs": [
        {
          "output_type": "stream",
          "name": "stdout",
          "text": [
            "=== Global Alignment ===\n",
            "ACCGT-GA\n",
            "| ||| ||\n",
            "A-CGTCGA\n",
            "  Score=6\n",
            "\n",
            "ACCGT-GA\n",
            "|| || ||\n",
            "AC-GTCGA\n",
            "  Score=6\n",
            "\n",
            "=== Local Alignment ===\n",
            "ACCGT-GA\n",
            "| ||| ||\n",
            "A-CGTCGA\n",
            "  Score=6\n",
            "\n",
            "ACCGT-GA\n",
            "|| || ||\n",
            "AC-GTCGA\n",
            "  Score=6\n",
            "\n",
            "=== Multiple Sequence Alignment (Illustrative) ===\n",
            "Seq1 vs Seq2 = 6.0\n",
            "Seq1 vs Seq3 = 6.0\n",
            "Seq2 vs Seq3 = 5.0\n"
          ]
        },
        {
          "output_type": "stream",
          "name": "stderr",
          "text": [
            "/usr/local/lib/python3.12/dist-packages/Bio/pairwise2.py:278: BiopythonDeprecationWarning: Bio.pairwise2 has been deprecated, and we intend to remove it in a future release of Biopython. As an alternative, please consider using Bio.Align.PairwiseAligner as a replacement, and contact the Biopython developers if you still need the Bio.pairwise2 module.\n",
            "  warnings.warn(\n"
          ]
        }
      ]
    }
  ]
}